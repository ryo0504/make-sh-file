{
 "cells": [
  {
   "cell_type": "code",
   "execution_count": 35,
   "id": "5d31b5d7-d3e9-44fa-af64-e63707617825",
   "metadata": {},
   "outputs": [],
   "source": [
    "import codecs\n",
    "import glob\n",
    "import pandas as pd\n",
    "import matplotlib.pyplot as plt\n",
    "from matplotlib import cm"
   ]
  },
  {
   "cell_type": "code",
   "execution_count": 36,
   "id": "e9420be7-035c-46cd-88cd-641747cb6ca8",
   "metadata": {},
   "outputs": [],
   "source": [
    "data_dir = \"data/20220616/*gjf\"\n",
    "paths = [p for p in glob.glob(data_dir)]\n",
    "data_dir_split = data_dir.split(\"/\")\n",
    "result_dir = data_dir_split[0] + \"/\" + data_dir_split[1] + \"/\"\n",
    "output_file = result_dir + \"test.sh\""
   ]
  },
  {
   "cell_type": "code",
   "execution_count": 37,
   "id": "dfeee94f-c23b-45c9-95d1-9827f5c1f659",
   "metadata": {},
   "outputs": [],
   "source": [
    "with open(output_file,\"a\") as f:\n",
    "    f.write(\"#! /bin/sh\" + \"\\n\")\n",
    "\n",
    "for path in paths:\n",
    "    # file_nameから角度の情報を取る\n",
    "    path = path.split('/')[-1]\n",
    "    with open(output_file,\"a\") as f:\n",
    "        text = \"g16 \" + path + \" \" + path.replace(\"gjf\", \"out\") + \"\\n\"\n",
    "        f.write(text)\n",
    "    \n",
    "    "
   ]
  },
  {
   "cell_type": "code",
   "execution_count": null,
   "id": "dd2e7bce-842d-4187-907d-65d9125b0ee1",
   "metadata": {},
   "outputs": [],
   "source": []
  }
 ],
 "metadata": {
  "kernelspec": {
   "display_name": "Python 3",
   "language": "python",
   "name": "python3"
  },
  "language_info": {
   "codemirror_mode": {
    "name": "ipython",
    "version": 3
   },
   "file_extension": ".py",
   "mimetype": "text/x-python",
   "name": "python",
   "nbconvert_exporter": "python",
   "pygments_lexer": "ipython3",
   "version": "3.8.8"
  }
 },
 "nbformat": 4,
 "nbformat_minor": 5
}
