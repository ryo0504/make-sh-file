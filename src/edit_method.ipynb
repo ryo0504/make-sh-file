{
 "cells": [
  {
   "cell_type": "code",
   "execution_count": 1,
   "id": "dbd1956f-a04a-474d-9302-482bf8b677ce",
   "metadata": {},
   "outputs": [],
   "source": [
    "import codecs\n",
    "import glob\n",
    "import math\n",
    "import os\n",
    "from decimal import Decimal\n",
    "import pandas as pd\n",
    "import matplotlib.pyplot as plt\n",
    "from matplotlib import cm"
   ]
  },
  {
   "cell_type": "code",
   "execution_count": 2,
   "id": "c86ed357-ef4f-40de-89ac-b235644c877a",
   "metadata": {},
   "outputs": [],
   "source": [
    "# 注意　データの書き換えコードなのでinputファイルに直接変更を施す\n",
    "\n",
    "data_dir = \"data/*.gjf\"\n",
    "paths = [p for p in glob.glob(data_dir)]\n",
    "\n",
    "# 置換したい文字列を指定\n",
    "# keywards = \"#N ONIOM(B3LYP/6-311G** TD=(Root=2):HF/STO-3G) Opt=ModRedundant\"\n",
    "keywards = \"#N HF/3-21G Opt=Z-matrix Freq=(HPMode,Raman)\"\n",
    "new_keywards = \"#N ONIOM(HF/6-31G TD=(Root=2):HF/STO-3G) Opt=(ModRedundant,loose)\"\n",
    "# new_keywards = \"#N ONIOM(HF/6-31G TD=(Root=2):HF/STO-3G) Opt=(ModRedundant,loose)\"\n",
    "# new_keywards = \"#N ONIOM(B3LYP/6-311G** TD=(Root=2):HF/STO-3G) Opt=ModRedundant\""
   ]
  },
  {
   "cell_type": "code",
   "execution_count": 3,
   "id": "1e63f934-1c44-42a8-aa10-028dea7d33fb",
   "metadata": {},
   "outputs": [],
   "source": [
    "for path in paths:\n",
    "    file_name = paths\n",
    "    \n",
    "    with open(path,\"r\") as f:\n",
    "        data=f.read()\n",
    "        # 文字列置換\n",
    "        data = data.replace(keywards, new_keywards)\n",
    "\n",
    "        # 同じファイル名で保存\n",
    "    with open(path, mode=\"w\", encoding=\"cp932\") as f:\n",
    "        f.write(data)"
   ]
  },
  {
   "cell_type": "code",
   "execution_count": null,
   "id": "6f3a5ef1-a27e-4dac-8d39-7329de9d9b52",
   "metadata": {},
   "outputs": [],
   "source": []
  }
 ],
 "metadata": {
  "kernelspec": {
   "display_name": "Python 3",
   "language": "python",
   "name": "python3"
  },
  "language_info": {
   "codemirror_mode": {
    "name": "ipython",
    "version": 3
   },
   "file_extension": ".py",
   "mimetype": "text/x-python",
   "name": "python",
   "nbconvert_exporter": "python",
   "pygments_lexer": "ipython3",
   "version": "3.8.8"
  }
 },
 "nbformat": 4,
 "nbformat_minor": 5
}
