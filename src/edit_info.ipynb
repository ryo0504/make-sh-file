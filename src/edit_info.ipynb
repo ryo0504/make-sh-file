{
 "cells": [
  {
   "cell_type": "code",
   "execution_count": 2,
   "id": "e0e64929-fd94-4ab1-9092-1c2969afdb0f",
   "metadata": {},
   "outputs": [],
   "source": [
    "import glob"
   ]
  },
  {
   "cell_type": "code",
   "execution_count": 9,
   "id": "59988635-ec02-49e2-a3ba-47df47ea12c9",
   "metadata": {},
   "outputs": [],
   "source": [
    "# 注意　データの書き換えコードなのでinputファイルに直接変更を施す\n",
    "data_dir = \"data/20220618/NH/*gjf\"\n",
    "paths = [p for p in glob.glob(data_dir)]\n",
    "\n",
    "# 置換したい文字列を指定\n",
    "target = \"%mem=2GB\\n%NProcShared=6\\n\"\n",
    "# calc1\n",
    "replace = \"%mem=4GB\\n%cpu=0-9\\n\"\n",
    "# calc2re\n",
    "# replace = \"%mem=4GB\\n%cpu=10-19\\n\""
   ]
  },
  {
   "cell_type": "code",
   "execution_count": 10,
   "id": "f69b480c-9dde-4b6d-8957-071c5cb6cfa5",
   "metadata": {},
   "outputs": [],
   "source": [
    "for path in paths:\n",
    "    with open(path,\"r\") as f:\n",
    "        data=f.read()\n",
    "        # 文字列置換\n",
    "        data = data.replace(target, replace)\n",
    "\n",
    "        # 同じファイル名で保存\n",
    "    with open(path, mode=\"w\", encoding=\"cp932\") as f:\n",
    "        f.write(data)"
   ]
  }
 ],
 "metadata": {
  "kernelspec": {
   "display_name": "Python 3",
   "language": "python",
   "name": "python3"
  },
  "language_info": {
   "codemirror_mode": {
    "name": "ipython",
    "version": 3
   },
   "file_extension": ".py",
   "mimetype": "text/x-python",
   "name": "python",
   "nbconvert_exporter": "python",
   "pygments_lexer": "ipython3",
   "version": "3.8.8"
  }
 },
 "nbformat": 4,
 "nbformat_minor": 5
}
