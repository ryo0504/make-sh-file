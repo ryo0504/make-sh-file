{
 "cells": [
  {
   "cell_type": "code",
   "execution_count": 2,
   "id": "e0e64929-fd94-4ab1-9092-1c2969afdb0f",
   "metadata": {},
   "outputs": [],
   "source": [
    "import glob"
   ]
  },
  {
   "cell_type": "code",
   "execution_count": 3,
   "id": "59988635-ec02-49e2-a3ba-47df47ea12c9",
   "metadata": {},
   "outputs": [],
   "source": [
    "# 注意　データの書き換えコードなのでinputファイルに直接変更を施す\n",
    "data_dir = \"data/20220624/*gjf\"\n",
    "paths = [p for p in glob.glob(data_dir)]\n",
    "\n",
    "# 置換したい文字列を指定\n",
    "target = \"%mem=2GB\\n%NProcShared=6\\n\"\n",
    "# calc1\n",
    "replace = \"%mem=4GB\\n%cpu=0-9\\n\"\n",
    "# calc2\n",
    "# replace = \"%mem=4GB\\n%cpu=10-19\\n\""
   ]
  },
  {
   "cell_type": "code",
   "execution_count": 4,
   "id": "f69b480c-9dde-4b6d-8957-071c5cb6cfa5",
   "metadata": {},
   "outputs": [],
   "source": [
    "for path in paths:\n",
    "    with open(path,\"r\") as f:\n",
    "        data=f.read()\n",
    "        # 文字列置換\n",
    "        data = data.replace(target, replace)\n",
    "\n",
    "        # 同じファイル名で保存\n",
    "    with open(path, mode=\"w\", encoding=\"cp932\") as f:\n",
    "        f.write(data)"
   ]
  },
  {
   "cell_type": "code",
   "execution_count": 5,
   "id": "9b74609f-7909-45c9-b10e-d2bcdeefb9d9",
   "metadata": {},
   "outputs": [],
   "source": [
    "# 計算方法も書き換えたいとき\n",
    "new_calc_method = \"#N B3LYP/6-311G**\"\n",
    "\n",
    "\n",
    "for path in paths:\n",
    "    # file_nameから角度の情報を取る\n",
    "    file_name = path.split('/')[-1]\n",
    "\n",
    "    with codecs.open(path, \"r\", \"UTF-8\", \"ignore\") as file:\n",
    "        df = pd.read_table(file)\n",
    "        df = df.rename(columns={df.columns[0]: 'Col_1'})\n",
    "#         元の計算方法\n",
    "        calc_method = df.loc[2][0]\n",
    "       \n",
    "    with open(path,\"r\") as f:\n",
    "        data=f.read()\n",
    "        # 文字列置換\n",
    "        data = data.replace(calc_method, new_calc_method)\n",
    "\n",
    "    # 同じファイル名で保存\n",
    "    with open(path, mode=\"w\", encoding=\"cp932\") as f:\n",
    "        f.write(data)\n",
    "        "
   ]
  },
  {
   "cell_type": "code",
   "execution_count": 6,
   "id": "b9bf769a-3dc7-4e5e-af89-f2cb2fe93f39",
   "metadata": {},
   "outputs": [],
   "source": [
    "# ファイル名の変更を行うコード\n",
    "# 注意　データの書き換えコードなのでinputファイルに直接変更を施す\n",
    "\n",
    "data_dir = \"data/test/*.gjf\"\n",
    "paths = [p for p in glob.glob(data_dir)]\n",
    "\n",
    "# 置換したい文字列を指定\n",
    "key = \"dh6\"\n",
    "new_key = \"test\"\n",
    "\n",
    "for path in paths:\n",
    "    if key in key in path.split(\"/\")[-1]:\n",
    "        old_name_list = path.split(key)\n",
    "        new_name = old_name_list[0] + new_key + old_name_list[1]\n",
    "        os.rename(path, new_name)"
   ]
  },
  {
   "cell_type": "code",
   "execution_count": null,
   "id": "3c0dec26-20f9-4b83-9f9b-a858e2b477b5",
   "metadata": {},
   "outputs": [],
   "source": []
  }
 ],
 "metadata": {
  "kernelspec": {
   "display_name": "Python 3",
   "language": "python",
   "name": "python3"
  },
  "language_info": {
   "codemirror_mode": {
    "name": "ipython",
    "version": 3
   },
   "file_extension": ".py",
   "mimetype": "text/x-python",
   "name": "python",
   "nbconvert_exporter": "python",
   "pygments_lexer": "ipython3",
   "version": "3.8.8"
  }
 },
 "nbformat": 4,
 "nbformat_minor": 5
}
